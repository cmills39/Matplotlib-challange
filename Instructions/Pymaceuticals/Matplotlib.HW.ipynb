{
 "cells": [
  {
   "cell_type": "code",
   "execution_count": 1,
   "metadata": {},
   "outputs": [
    {
     "data": {
      "text/html": [
       "<div>\n",
       "<style scoped>\n",
       "    .dataframe tbody tr th:only-of-type {\n",
       "        vertical-align: middle;\n",
       "    }\n",
       "\n",
       "    .dataframe tbody tr th {\n",
       "        vertical-align: top;\n",
       "    }\n",
       "\n",
       "    .dataframe thead th {\n",
       "        text-align: right;\n",
       "    }\n",
       "</style>\n",
       "<table border=\"1\" class=\"dataframe\">\n",
       "  <thead>\n",
       "    <tr style=\"text-align: right;\">\n",
       "      <th></th>\n",
       "      <th>Mouse ID</th>\n",
       "      <th>Drug</th>\n",
       "      <th>Timepoint</th>\n",
       "      <th>Tumor Volume (mm3)</th>\n",
       "      <th>Metastatic Sites</th>\n",
       "    </tr>\n",
       "  </thead>\n",
       "  <tbody>\n",
       "    <tr>\n",
       "      <td>393</td>\n",
       "      <td>q119</td>\n",
       "      <td>Ketapril</td>\n",
       "      <td>0</td>\n",
       "      <td>45.000000</td>\n",
       "      <td>0</td>\n",
       "    </tr>\n",
       "    <tr>\n",
       "      <td>394</td>\n",
       "      <td>q119</td>\n",
       "      <td>Ketapril</td>\n",
       "      <td>5</td>\n",
       "      <td>47.864440</td>\n",
       "      <td>0</td>\n",
       "    </tr>\n",
       "    <tr>\n",
       "      <td>395</td>\n",
       "      <td>q119</td>\n",
       "      <td>Ketapril</td>\n",
       "      <td>10</td>\n",
       "      <td>51.236606</td>\n",
       "      <td>0</td>\n",
       "    </tr>\n",
       "    <tr>\n",
       "      <td>396</td>\n",
       "      <td>n923</td>\n",
       "      <td>Ketapril</td>\n",
       "      <td>0</td>\n",
       "      <td>45.000000</td>\n",
       "      <td>0</td>\n",
       "    </tr>\n",
       "    <tr>\n",
       "      <td>397</td>\n",
       "      <td>n923</td>\n",
       "      <td>Ketapril</td>\n",
       "      <td>5</td>\n",
       "      <td>45.824881</td>\n",
       "      <td>0</td>\n",
       "    </tr>\n",
       "    <tr>\n",
       "      <td>...</td>\n",
       "      <td>...</td>\n",
       "      <td>...</td>\n",
       "      <td>...</td>\n",
       "      <td>...</td>\n",
       "      <td>...</td>\n",
       "    </tr>\n",
       "    <tr>\n",
       "      <td>1901</td>\n",
       "      <td>j235</td>\n",
       "      <td>Placebo</td>\n",
       "      <td>0</td>\n",
       "      <td>45.000000</td>\n",
       "      <td>0</td>\n",
       "    </tr>\n",
       "    <tr>\n",
       "      <td>1902</td>\n",
       "      <td>j235</td>\n",
       "      <td>Placebo</td>\n",
       "      <td>5</td>\n",
       "      <td>46.588820</td>\n",
       "      <td>0</td>\n",
       "    </tr>\n",
       "    <tr>\n",
       "      <td>1903</td>\n",
       "      <td>j235</td>\n",
       "      <td>Placebo</td>\n",
       "      <td>10</td>\n",
       "      <td>48.018788</td>\n",
       "      <td>1</td>\n",
       "    </tr>\n",
       "    <tr>\n",
       "      <td>1904</td>\n",
       "      <td>j235</td>\n",
       "      <td>Placebo</td>\n",
       "      <td>15</td>\n",
       "      <td>51.161138</td>\n",
       "      <td>1</td>\n",
       "    </tr>\n",
       "    <tr>\n",
       "      <td>1905</td>\n",
       "      <td>j235</td>\n",
       "      <td>Placebo</td>\n",
       "      <td>20</td>\n",
       "      <td>52.942902</td>\n",
       "      <td>1</td>\n",
       "    </tr>\n",
       "  </tbody>\n",
       "</table>\n",
       "<p>777 rows × 5 columns</p>\n",
       "</div>"
      ],
      "text/plain": [
       "     Mouse ID      Drug  Timepoint  Tumor Volume (mm3)  Metastatic Sites\n",
       "393      q119  Ketapril          0           45.000000                 0\n",
       "394      q119  Ketapril          5           47.864440                 0\n",
       "395      q119  Ketapril         10           51.236606                 0\n",
       "396      n923  Ketapril          0           45.000000                 0\n",
       "397      n923  Ketapril          5           45.824881                 0\n",
       "...       ...       ...        ...                 ...               ...\n",
       "1901     j235   Placebo          0           45.000000                 0\n",
       "1902     j235   Placebo          5           46.588820                 0\n",
       "1903     j235   Placebo         10           48.018788                 1\n",
       "1904     j235   Placebo         15           51.161138                 1\n",
       "1905     j235   Placebo         20           52.942902                 1\n",
       "\n",
       "[777 rows x 5 columns]"
      ]
     },
     "execution_count": 1,
     "metadata": {},
     "output_type": "execute_result"
    }
   ],
   "source": [
    "# Dependencies and Setup\n",
    "%matplotlib inline\n",
    "import matplotlib.pyplot as plt\n",
    "import pandas as pd\n",
    "import numpy as np\n",
    "\n",
    "# Hide warning messages in notebook\n",
    "import warnings\n",
    "warnings.filterwarnings('ignore')\n",
    "\n",
    "# File to Load (Remember to Change These)\n",
    "mouse_drug_data_to_load = \"data/mouse_drug_data.csv\"\n",
    "clinical_trial_data_to_load = \"data/clinicaltrial_data.csv\"\n",
    "\n",
    "# Read the Mouse and Drug Data and the Clinical Trial Data\n",
    "mouseDF = pd.read_csv(\"data/mouse_drug_data.csv\")\n",
    "clinicalDF = pd.read_csv(\"data/clinicaltrial_data.csv\")\n",
    "\n",
    "# Combine the data into a single dataset\n",
    "mouse_clinicalDF = pd.merge(mouseDF, clinicalDF, how=\"outer\", on=\"Mouse ID\")\n",
    "\n",
    "# Display the data table for preview & Drop all medicines not used in comparision\n",
    "mouse_clinicalDF1= mouse_clinicalDF[mouse_clinicalDF.Drug != 'Stelasyn'] \n",
    "mouse_clinicalDF2= mouse_clinicalDF1[mouse_clinicalDF.Drug != 'Propriva'] \n",
    "mouse_clinicalDF3= mouse_clinicalDF2[mouse_clinicalDF.Drug != 'Naftisol']\n",
    "mouse_clinicalDF4= mouse_clinicalDF3[mouse_clinicalDF.Drug != 'Ceftamin']\n",
    "mouse_clinicalDF5= mouse_clinicalDF4[mouse_clinicalDF.Drug != 'Zoniferol']\n",
    "mouse_clinicalDF6= mouse_clinicalDF5[mouse_clinicalDF.Drug != 'Ramicane']\n",
    "mouse_clinicalDF6"
   ]
  },
  {
   "cell_type": "markdown",
   "metadata": {},
   "source": []
  },
  {
   "cell_type": "code",
   "execution_count": 2,
   "metadata": {},
   "outputs": [
    {
     "data": {
      "text/html": [
       "<div>\n",
       "<style scoped>\n",
       "    .dataframe tbody tr th:only-of-type {\n",
       "        vertical-align: middle;\n",
       "    }\n",
       "\n",
       "    .dataframe tbody tr th {\n",
       "        vertical-align: top;\n",
       "    }\n",
       "\n",
       "    .dataframe thead th {\n",
       "        text-align: right;\n",
       "    }\n",
       "</style>\n",
       "<table border=\"1\" class=\"dataframe\">\n",
       "  <thead>\n",
       "    <tr style=\"text-align: right;\">\n",
       "      <th></th>\n",
       "      <th>Timepoint</th>\n",
       "      <th>Tumor Volume (mm3)</th>\n",
       "      <th>Metastatic Sites</th>\n",
       "    </tr>\n",
       "  </thead>\n",
       "  <tbody>\n",
       "    <tr>\n",
       "      <td>count</td>\n",
       "      <td>1906.000000</td>\n",
       "      <td>1906.000000</td>\n",
       "      <td>1906.000000</td>\n",
       "    </tr>\n",
       "    <tr>\n",
       "      <td>mean</td>\n",
       "      <td>19.538300</td>\n",
       "      <td>50.468120</td>\n",
       "      <td>1.018363</td>\n",
       "    </tr>\n",
       "    <tr>\n",
       "      <td>std</td>\n",
       "      <td>14.064786</td>\n",
       "      <td>8.869571</td>\n",
       "      <td>1.135991</td>\n",
       "    </tr>\n",
       "    <tr>\n",
       "      <td>min</td>\n",
       "      <td>0.000000</td>\n",
       "      <td>22.050126</td>\n",
       "      <td>0.000000</td>\n",
       "    </tr>\n",
       "    <tr>\n",
       "      <td>25%</td>\n",
       "      <td>5.000000</td>\n",
       "      <td>45.000000</td>\n",
       "      <td>0.000000</td>\n",
       "    </tr>\n",
       "    <tr>\n",
       "      <td>50%</td>\n",
       "      <td>20.000000</td>\n",
       "      <td>48.991921</td>\n",
       "      <td>1.000000</td>\n",
       "    </tr>\n",
       "    <tr>\n",
       "      <td>75%</td>\n",
       "      <td>30.000000</td>\n",
       "      <td>56.288484</td>\n",
       "      <td>2.000000</td>\n",
       "    </tr>\n",
       "    <tr>\n",
       "      <td>max</td>\n",
       "      <td>45.000000</td>\n",
       "      <td>78.567014</td>\n",
       "      <td>4.000000</td>\n",
       "    </tr>\n",
       "  </tbody>\n",
       "</table>\n",
       "</div>"
      ],
      "text/plain": [
       "         Timepoint  Tumor Volume (mm3)  Metastatic Sites\n",
       "count  1906.000000         1906.000000       1906.000000\n",
       "mean     19.538300           50.468120          1.018363\n",
       "std      14.064786            8.869571          1.135991\n",
       "min       0.000000           22.050126          0.000000\n",
       "25%       5.000000           45.000000          0.000000\n",
       "50%      20.000000           48.991921          1.000000\n",
       "75%      30.000000           56.288484          2.000000\n",
       "max      45.000000           78.567014          4.000000"
      ]
     },
     "execution_count": 2,
     "metadata": {},
     "output_type": "execute_result"
    }
   ],
   "source": [
    "#Describe Main DF after merge\n",
    "mouse_clinicalDF.describe()"
   ]
  },
  {
   "cell_type": "markdown",
   "metadata": {},
   "source": [
    "## Tumor Response to Treatment"
   ]
  },
  {
   "cell_type": "code",
   "execution_count": 3,
   "metadata": {},
   "outputs": [
    {
     "data": {
      "text/html": [
       "<div>\n",
       "<style scoped>\n",
       "    .dataframe tbody tr th:only-of-type {\n",
       "        vertical-align: middle;\n",
       "    }\n",
       "\n",
       "    .dataframe tbody tr th {\n",
       "        vertical-align: top;\n",
       "    }\n",
       "\n",
       "    .dataframe thead th {\n",
       "        text-align: right;\n",
       "    }\n",
       "</style>\n",
       "<table border=\"1\" class=\"dataframe\">\n",
       "  <thead>\n",
       "    <tr style=\"text-align: right;\">\n",
       "      <th></th>\n",
       "      <th>Drug</th>\n",
       "      <th>Timepoint</th>\n",
       "      <th>Tumor Volume (mm3)</th>\n",
       "    </tr>\n",
       "  </thead>\n",
       "  <tbody>\n",
       "    <tr>\n",
       "      <td>0</td>\n",
       "      <td>Stelasyn</td>\n",
       "      <td>0</td>\n",
       "      <td>45.000000</td>\n",
       "    </tr>\n",
       "    <tr>\n",
       "      <td>1</td>\n",
       "      <td>Stelasyn</td>\n",
       "      <td>5</td>\n",
       "      <td>47.313491</td>\n",
       "    </tr>\n",
       "    <tr>\n",
       "      <td>2</td>\n",
       "      <td>Stelasyn</td>\n",
       "      <td>10</td>\n",
       "      <td>47.904324</td>\n",
       "    </tr>\n",
       "    <tr>\n",
       "      <td>3</td>\n",
       "      <td>Stelasyn</td>\n",
       "      <td>15</td>\n",
       "      <td>48.735197</td>\n",
       "    </tr>\n",
       "    <tr>\n",
       "      <td>4</td>\n",
       "      <td>Stelasyn</td>\n",
       "      <td>20</td>\n",
       "      <td>51.112713</td>\n",
       "    </tr>\n",
       "    <tr>\n",
       "      <td>...</td>\n",
       "      <td>...</td>\n",
       "      <td>...</td>\n",
       "      <td>...</td>\n",
       "    </tr>\n",
       "    <tr>\n",
       "      <td>1901</td>\n",
       "      <td>Placebo</td>\n",
       "      <td>0</td>\n",
       "      <td>45.000000</td>\n",
       "    </tr>\n",
       "    <tr>\n",
       "      <td>1902</td>\n",
       "      <td>Placebo</td>\n",
       "      <td>5</td>\n",
       "      <td>46.588820</td>\n",
       "    </tr>\n",
       "    <tr>\n",
       "      <td>1903</td>\n",
       "      <td>Placebo</td>\n",
       "      <td>10</td>\n",
       "      <td>48.018788</td>\n",
       "    </tr>\n",
       "    <tr>\n",
       "      <td>1904</td>\n",
       "      <td>Placebo</td>\n",
       "      <td>15</td>\n",
       "      <td>51.161138</td>\n",
       "    </tr>\n",
       "    <tr>\n",
       "      <td>1905</td>\n",
       "      <td>Placebo</td>\n",
       "      <td>20</td>\n",
       "      <td>52.942902</td>\n",
       "    </tr>\n",
       "  </tbody>\n",
       "</table>\n",
       "<p>1906 rows × 3 columns</p>\n",
       "</div>"
      ],
      "text/plain": [
       "          Drug  Timepoint  Tumor Volume (mm3)\n",
       "0     Stelasyn          0           45.000000\n",
       "1     Stelasyn          5           47.313491\n",
       "2     Stelasyn         10           47.904324\n",
       "3     Stelasyn         15           48.735197\n",
       "4     Stelasyn         20           51.112713\n",
       "...        ...        ...                 ...\n",
       "1901   Placebo          0           45.000000\n",
       "1902   Placebo          5           46.588820\n",
       "1903   Placebo         10           48.018788\n",
       "1904   Placebo         15           51.161138\n",
       "1905   Placebo         20           52.942902\n",
       "\n",
       "[1906 rows x 3 columns]"
      ]
     },
     "execution_count": 3,
     "metadata": {},
     "output_type": "execute_result"
    }
   ],
   "source": [
    "# Store the Mean Tumor Volume Data Grouped by Drug and Timepoint \n",
    "TrT = mouse_clinicalDF.loc[:, [\"Drug\", \"Timepoint\", \"Tumor Volume (mm3)\"]]\n",
    "# Convert to DataFrame\n",
    "TrTA = pd.DataFrame(TrT)\n",
    "# Preview DataFrame\n",
    "TrTA"
   ]
  },
  {
   "cell_type": "markdown",
   "metadata": {},
   "source": []
  },
  {
   "cell_type": "code",
   "execution_count": 4,
   "metadata": {},
   "outputs": [
    {
     "name": "stdout",
     "output_type": "stream",
     "text": [
      "               Drug  Tumor_Volume_mm3\n",
      "Timepoint                            \n",
      "0          Stelasyn         45.000000\n",
      "5          Stelasyn         47.313491\n",
      "10         Stelasyn         47.904324\n",
      "15         Stelasyn         48.735197\n",
      "20         Stelasyn         51.112713\n",
      "...             ...               ...\n",
      "0           Placebo         45.000000\n",
      "5           Placebo         46.588820\n",
      "10          Placebo         48.018788\n",
      "15          Placebo         51.161138\n",
      "20          Placebo         52.942902\n",
      "\n",
      "[1906 rows x 2 columns]\n"
     ]
    }
   ],
   "source": [
    "TrTA.rename(columns={'Tumor Volume (mm3)': 'Tumor_Volume_mm3'}, inplace=True)\n",
    "#print(TrTA)\n",
    "TrTAtime=TrTA.set_index('Timepoint')\n",
    "print (TrTAtime)\n",
    "#TrTAtime=TrTAtime.T\n"
   ]
  },
  {
   "cell_type": "code",
   "execution_count": 5,
   "metadata": {},
   "outputs": [
    {
     "name": "stdout",
     "output_type": "stream",
     "text": [
      "The mean Tumor Volume of all drugs is: 50.468\n",
      "The standard deviation of all drugs Tumor Volume is: 8.869571440055733\n"
     ]
    }
   ],
   "source": [
    "# Store the Standard Error of Tumor Volumes Grouped by Drug and Timepoint\n",
    "# Convert to DataFrame\n",
    "# Preview DataFrame\n",
    "print(f\"The mean Tumor Volume of all drugs is: {round(TrTA.Tumor_Volume_mm3.mean(),3)}\")\n",
    "print(f\"The standard deviation of all drugs Tumor Volume is: {TrTA.Tumor_Volume_mm3.std()}\")\n"
   ]
  },
  {
   "cell_type": "code",
   "execution_count": 6,
   "metadata": {},
   "outputs": [
    {
     "data": {
      "text/html": [
       "<div>\n",
       "<style scoped>\n",
       "    .dataframe tbody tr th:only-of-type {\n",
       "        vertical-align: middle;\n",
       "    }\n",
       "\n",
       "    .dataframe tbody tr th {\n",
       "        vertical-align: top;\n",
       "    }\n",
       "\n",
       "    .dataframe thead th {\n",
       "        text-align: right;\n",
       "    }\n",
       "</style>\n",
       "<table border=\"1\" class=\"dataframe\">\n",
       "  <thead>\n",
       "    <tr style=\"text-align: right;\">\n",
       "      <th></th>\n",
       "      <th>Mouse ID</th>\n",
       "      <th>Drug</th>\n",
       "      <th>Timepoint</th>\n",
       "      <th>Tumor Volume (mm3)</th>\n",
       "      <th>Metastatic Sites</th>\n",
       "    </tr>\n",
       "  </thead>\n",
       "  <tbody>\n",
       "    <tr>\n",
       "      <td>581</td>\n",
       "      <td>b128</td>\n",
       "      <td>Capomulin</td>\n",
       "      <td>0</td>\n",
       "      <td>45.000000</td>\n",
       "      <td>0</td>\n",
       "    </tr>\n",
       "    <tr>\n",
       "      <td>582</td>\n",
       "      <td>b128</td>\n",
       "      <td>Capomulin</td>\n",
       "      <td>5</td>\n",
       "      <td>45.651331</td>\n",
       "      <td>0</td>\n",
       "    </tr>\n",
       "    <tr>\n",
       "      <td>583</td>\n",
       "      <td>b128</td>\n",
       "      <td>Capomulin</td>\n",
       "      <td>10</td>\n",
       "      <td>43.270852</td>\n",
       "      <td>0</td>\n",
       "    </tr>\n",
       "    <tr>\n",
       "      <td>584</td>\n",
       "      <td>b128</td>\n",
       "      <td>Capomulin</td>\n",
       "      <td>15</td>\n",
       "      <td>43.784893</td>\n",
       "      <td>0</td>\n",
       "    </tr>\n",
       "    <tr>\n",
       "      <td>585</td>\n",
       "      <td>b128</td>\n",
       "      <td>Capomulin</td>\n",
       "      <td>20</td>\n",
       "      <td>42.731552</td>\n",
       "      <td>0</td>\n",
       "    </tr>\n",
       "    <tr>\n",
       "      <td>...</td>\n",
       "      <td>...</td>\n",
       "      <td>...</td>\n",
       "      <td>...</td>\n",
       "      <td>...</td>\n",
       "      <td>...</td>\n",
       "    </tr>\n",
       "    <tr>\n",
       "      <td>806</td>\n",
       "      <td>j246</td>\n",
       "      <td>Capomulin</td>\n",
       "      <td>15</td>\n",
       "      <td>43.312654</td>\n",
       "      <td>0</td>\n",
       "    </tr>\n",
       "    <tr>\n",
       "      <td>807</td>\n",
       "      <td>j246</td>\n",
       "      <td>Capomulin</td>\n",
       "      <td>20</td>\n",
       "      <td>44.020370</td>\n",
       "      <td>0</td>\n",
       "    </tr>\n",
       "    <tr>\n",
       "      <td>808</td>\n",
       "      <td>j246</td>\n",
       "      <td>Capomulin</td>\n",
       "      <td>25</td>\n",
       "      <td>44.555226</td>\n",
       "      <td>0</td>\n",
       "    </tr>\n",
       "    <tr>\n",
       "      <td>809</td>\n",
       "      <td>j246</td>\n",
       "      <td>Capomulin</td>\n",
       "      <td>30</td>\n",
       "      <td>38.044082</td>\n",
       "      <td>1</td>\n",
       "    </tr>\n",
       "    <tr>\n",
       "      <td>810</td>\n",
       "      <td>j246</td>\n",
       "      <td>Capomulin</td>\n",
       "      <td>35</td>\n",
       "      <td>38.753265</td>\n",
       "      <td>1</td>\n",
       "    </tr>\n",
       "  </tbody>\n",
       "</table>\n",
       "<p>230 rows × 5 columns</p>\n",
       "</div>"
      ],
      "text/plain": [
       "    Mouse ID       Drug  Timepoint  Tumor Volume (mm3)  Metastatic Sites\n",
       "581     b128  Capomulin          0           45.000000                 0\n",
       "582     b128  Capomulin          5           45.651331                 0\n",
       "583     b128  Capomulin         10           43.270852                 0\n",
       "584     b128  Capomulin         15           43.784893                 0\n",
       "585     b128  Capomulin         20           42.731552                 0\n",
       "..       ...        ...        ...                 ...               ...\n",
       "806     j246  Capomulin         15           43.312654                 0\n",
       "807     j246  Capomulin         20           44.020370                 0\n",
       "808     j246  Capomulin         25           44.555226                 0\n",
       "809     j246  Capomulin         30           38.044082                 1\n",
       "810     j246  Capomulin         35           38.753265                 1\n",
       "\n",
       "[230 rows x 5 columns]"
      ]
     },
     "execution_count": 6,
     "metadata": {},
     "output_type": "execute_result"
    }
   ],
   "source": [
    "#isolate each one of the four drugs that we are comparing\n",
    "mouse_clinicalDF7= mouse_clinicalDF6[mouse_clinicalDF.Drug != 'Infubinol']\n",
    "mouse_clinicalDF8= mouse_clinicalDF7[mouse_clinicalDF.Drug != 'Ketapril']\n",
    "mouse_clinicalDF_Capomulin= mouse_clinicalDF8[mouse_clinicalDF.Drug != 'Placebo']\n",
    "mouse_clinicalDF_Capomulin"
   ]
  },
  {
   "cell_type": "code",
   "execution_count": 7,
   "metadata": {},
   "outputs": [
    {
     "data": {
      "text/html": [
       "<div>\n",
       "<style scoped>\n",
       "    .dataframe tbody tr th:only-of-type {\n",
       "        vertical-align: middle;\n",
       "    }\n",
       "\n",
       "    .dataframe tbody tr th {\n",
       "        vertical-align: top;\n",
       "    }\n",
       "\n",
       "    .dataframe thead th {\n",
       "        text-align: right;\n",
       "    }\n",
       "</style>\n",
       "<table border=\"1\" class=\"dataframe\">\n",
       "  <thead>\n",
       "    <tr style=\"text-align: right;\">\n",
       "      <th></th>\n",
       "      <th>Timepoint</th>\n",
       "      <th>Tumor Volume (mm3)</th>\n",
       "      <th>Metastatic Sites</th>\n",
       "    </tr>\n",
       "  </thead>\n",
       "  <tbody>\n",
       "    <tr>\n",
       "      <td>count</td>\n",
       "      <td>230.000000</td>\n",
       "      <td>230.000000</td>\n",
       "      <td>230.000000</td>\n",
       "    </tr>\n",
       "    <tr>\n",
       "      <td>mean</td>\n",
       "      <td>21.565217</td>\n",
       "      <td>40.675741</td>\n",
       "      <td>0.713043</td>\n",
       "    </tr>\n",
       "    <tr>\n",
       "      <td>std</td>\n",
       "      <td>14.384994</td>\n",
       "      <td>4.994774</td>\n",
       "      <td>0.848993</td>\n",
       "    </tr>\n",
       "    <tr>\n",
       "      <td>min</td>\n",
       "      <td>0.000000</td>\n",
       "      <td>23.343598</td>\n",
       "      <td>0.000000</td>\n",
       "    </tr>\n",
       "    <tr>\n",
       "      <td>25%</td>\n",
       "      <td>10.000000</td>\n",
       "      <td>37.685933</td>\n",
       "      <td>0.000000</td>\n",
       "    </tr>\n",
       "    <tr>\n",
       "      <td>50%</td>\n",
       "      <td>20.000000</td>\n",
       "      <td>41.557809</td>\n",
       "      <td>0.000000</td>\n",
       "    </tr>\n",
       "    <tr>\n",
       "      <td>75%</td>\n",
       "      <td>35.000000</td>\n",
       "      <td>45.000000</td>\n",
       "      <td>1.000000</td>\n",
       "    </tr>\n",
       "    <tr>\n",
       "      <td>max</td>\n",
       "      <td>45.000000</td>\n",
       "      <td>48.158209</td>\n",
       "      <td>3.000000</td>\n",
       "    </tr>\n",
       "  </tbody>\n",
       "</table>\n",
       "</div>"
      ],
      "text/plain": [
       "        Timepoint  Tumor Volume (mm3)  Metastatic Sites\n",
       "count  230.000000          230.000000        230.000000\n",
       "mean    21.565217           40.675741          0.713043\n",
       "std     14.384994            4.994774          0.848993\n",
       "min      0.000000           23.343598          0.000000\n",
       "25%     10.000000           37.685933          0.000000\n",
       "50%     20.000000           41.557809          0.000000\n",
       "75%     35.000000           45.000000          1.000000\n",
       "max     45.000000           48.158209          3.000000"
      ]
     },
     "execution_count": 7,
     "metadata": {},
     "output_type": "execute_result"
    }
   ],
   "source": [
    "#Describe Capomulin\n",
    "mouse_clinicalDF_Capomulin.describe()"
   ]
  },
  {
   "cell_type": "code",
   "execution_count": 8,
   "metadata": {
    "scrolled": true
   },
   "outputs": [],
   "source": [
    "time = mouse_clinicalDF_Capomulin[\"Timepoint\"]\n",
    "TumorV= mouse_clinicalDF_Capomulin[\"Tumor Volume (mm3)\"]\n",
    "Metastatic= mouse_clinicalDF_Capomulin[\"Metastatic Sites\"]"
   ]
  },
  {
   "cell_type": "code",
   "execution_count": 9,
   "metadata": {},
   "outputs": [
    {
     "data": {
      "text/plain": [
       "Text(0, 0.5, 'Tumor Volume (mm3)')"
      ]
     },
     "execution_count": 9,
     "metadata": {},
     "output_type": "execute_result"
    },
    {
     "data": {
      "image/png": "[encoded data removed]",
      "text/plain": [
       "<Figure size 432x288 with 1 Axes>"
      ]
     },
     "metadata": {
      "needs_background": "light"
     },
     "output_type": "display_data"
    }
   ],
   "source": [
    "# Scatter plot change in tumor over time for Capomulin\n",
    "plt.scatter(time, TumorV, marker=\"o\", facecolors=\"black\", edgecolors=\"red\")\n",
    "plt.ylim(22,49)\n",
    "plt.xlim(-1,46)\n",
    "plt.title(\"Capomulin\")\n",
    "plt.xlabel(\"Time in Days\")\n",
    "plt.ylabel(\"Tumor Volume (mm3)\")\n",
    "# Save the Figure\n",
    "\n"
   ]
  },
  {
   "cell_type": "code",
   "execution_count": 10,
   "metadata": {},
   "outputs": [
    {
     "data": {
      "text/plain": [
       "Text(0, 0.5, 'Metastatic Sites')"
      ]
     },
     "execution_count": 10,
     "metadata": {},
     "output_type": "execute_result"
    },
    {
     "data": {
      "image/png": "[encoded data removed]",
      "text/plain": [
       "<Figure size 432x288 with 1 Axes>"
      ]
     },
     "metadata": {
      "needs_background": "light"
     },
     "output_type": "display_data"
    }
   ],
   "source": [
    "# Capomilin Metastatic sites comparision\n",
    "plt.scatter(time, Metastatic, marker=\"o\", facecolors=\"black\", edgecolors=\"black\")\n",
    "plt.ylim(-1,4)\n",
    "plt.xlim(-1,46)\n",
    "plt.title(\"Capomulin\")\n",
    "plt.xlabel(\"Time in Days\")\n",
    "plt.ylabel(\"Metastatic Sites\")"
   ]
  },
  {
   "cell_type": "code",
   "execution_count": 11,
   "metadata": {},
   "outputs": [
    {
     "data": {
      "text/plain": [
       "(0, 46)"
      ]
     },
     "execution_count": 11,
     "metadata": {},
     "output_type": "execute_result"
    },
    {
     "data": {
      "image/png": "[encoded data removed]",
      "text/plain": [
       "<Figure size 432x288 with 1 Axes>"
      ]
     },
     "metadata": {
      "needs_background": "light"
     },
     "output_type": "display_data"
    }
   ],
   "source": [
    "Capoomulin_plot=mouse_clinicalDF_Capomulin.plot(kind='bar')\n",
    "Capoomulin_plot.set_xlabel(\"Time\")\n",
    "Capoomulin_plot.set_ylabel (\"Tumor Volume Change (%)\")\n",
    "plt.ylim(0,50)\n",
    "plt.xlim(0,46)\n",
    "#how to adjust the size"
   ]
  },
  {
   "cell_type": "code",
   "execution_count": 12,
   "metadata": {},
   "outputs": [
    {
     "data": {
      "text/html": [
       "<div>\n",
       "<style scoped>\n",
       "    .dataframe tbody tr th:only-of-type {\n",
       "        vertical-align: middle;\n",
       "    }\n",
       "\n",
       "    .dataframe tbody tr th {\n",
       "        vertical-align: top;\n",
       "    }\n",
       "\n",
       "    .dataframe thead th {\n",
       "        text-align: right;\n",
       "    }\n",
       "</style>\n",
       "<table border=\"1\" class=\"dataframe\">\n",
       "  <thead>\n",
       "    <tr style=\"text-align: right;\">\n",
       "      <th></th>\n",
       "      <th>Mouse ID</th>\n",
       "      <th>Drug</th>\n",
       "      <th>Timepoint</th>\n",
       "      <th>Tumor Volume (mm3)</th>\n",
       "      <th>Metastatic Sites</th>\n",
       "    </tr>\n",
       "  </thead>\n",
       "  <tbody>\n",
       "    <tr>\n",
       "      <td>811</td>\n",
       "      <td>q132</td>\n",
       "      <td>Infubinol</td>\n",
       "      <td>0</td>\n",
       "      <td>45.000000</td>\n",
       "      <td>0</td>\n",
       "    </tr>\n",
       "    <tr>\n",
       "      <td>812</td>\n",
       "      <td>q132</td>\n",
       "      <td>Infubinol</td>\n",
       "      <td>5</td>\n",
       "      <td>46.716399</td>\n",
       "      <td>1</td>\n",
       "    </tr>\n",
       "    <tr>\n",
       "      <td>813</td>\n",
       "      <td>q132</td>\n",
       "      <td>Infubinol</td>\n",
       "      <td>10</td>\n",
       "      <td>47.953844</td>\n",
       "      <td>2</td>\n",
       "    </tr>\n",
       "    <tr>\n",
       "      <td>814</td>\n",
       "      <td>q132</td>\n",
       "      <td>Infubinol</td>\n",
       "      <td>15</td>\n",
       "      <td>49.159749</td>\n",
       "      <td>3</td>\n",
       "    </tr>\n",
       "    <tr>\n",
       "      <td>815</td>\n",
       "      <td>q132</td>\n",
       "      <td>Infubinol</td>\n",
       "      <td>20</td>\n",
       "      <td>51.909025</td>\n",
       "      <td>4</td>\n",
       "    </tr>\n",
       "    <tr>\n",
       "      <td>...</td>\n",
       "      <td>...</td>\n",
       "      <td>...</td>\n",
       "      <td>...</td>\n",
       "      <td>...</td>\n",
       "      <td>...</td>\n",
       "    </tr>\n",
       "    <tr>\n",
       "      <td>984</td>\n",
       "      <td>a685</td>\n",
       "      <td>Infubinol</td>\n",
       "      <td>25</td>\n",
       "      <td>51.939951</td>\n",
       "      <td>0</td>\n",
       "    </tr>\n",
       "    <tr>\n",
       "      <td>985</td>\n",
       "      <td>a685</td>\n",
       "      <td>Infubinol</td>\n",
       "      <td>30</td>\n",
       "      <td>55.453855</td>\n",
       "      <td>1</td>\n",
       "    </tr>\n",
       "    <tr>\n",
       "      <td>986</td>\n",
       "      <td>a685</td>\n",
       "      <td>Infubinol</td>\n",
       "      <td>35</td>\n",
       "      <td>58.092629</td>\n",
       "      <td>1</td>\n",
       "    </tr>\n",
       "    <tr>\n",
       "      <td>987</td>\n",
       "      <td>a685</td>\n",
       "      <td>Infubinol</td>\n",
       "      <td>40</td>\n",
       "      <td>60.567904</td>\n",
       "      <td>2</td>\n",
       "    </tr>\n",
       "    <tr>\n",
       "      <td>988</td>\n",
       "      <td>a685</td>\n",
       "      <td>Infubinol</td>\n",
       "      <td>45</td>\n",
       "      <td>66.083066</td>\n",
       "      <td>3</td>\n",
       "    </tr>\n",
       "  </tbody>\n",
       "</table>\n",
       "<p>178 rows × 5 columns</p>\n",
       "</div>"
      ],
      "text/plain": [
       "    Mouse ID       Drug  Timepoint  Tumor Volume (mm3)  Metastatic Sites\n",
       "811     q132  Infubinol          0           45.000000                 0\n",
       "812     q132  Infubinol          5           46.716399                 1\n",
       "813     q132  Infubinol         10           47.953844                 2\n",
       "814     q132  Infubinol         15           49.159749                 3\n",
       "815     q132  Infubinol         20           51.909025                 4\n",
       "..       ...        ...        ...                 ...               ...\n",
       "984     a685  Infubinol         25           51.939951                 0\n",
       "985     a685  Infubinol         30           55.453855                 1\n",
       "986     a685  Infubinol         35           58.092629                 1\n",
       "987     a685  Infubinol         40           60.567904                 2\n",
       "988     a685  Infubinol         45           66.083066                 3\n",
       "\n",
       "[178 rows x 5 columns]"
      ]
     },
     "execution_count": 12,
     "metadata": {},
     "output_type": "execute_result"
    }
   ],
   "source": [
    "mouse_clinicalDF9= mouse_clinicalDF6[mouse_clinicalDF.Drug != 'Capomulin']\n",
    "mouse_clinicalDF10= mouse_clinicalDF9[mouse_clinicalDF.Drug != 'Ketapril']\n",
    "mouse_clinicalDF_Infubinol= mouse_clinicalDF10[mouse_clinicalDF.Drug != 'Placebo']\n",
    "mouse_clinicalDF_Infubinol\n"
   ]
  },
  {
   "cell_type": "code",
   "execution_count": 13,
   "metadata": {},
   "outputs": [
    {
     "data": {
      "text/html": [
       "<div>\n",
       "<style scoped>\n",
       "    .dataframe tbody tr th:only-of-type {\n",
       "        vertical-align: middle;\n",
       "    }\n",
       "\n",
       "    .dataframe tbody tr th {\n",
       "        vertical-align: top;\n",
       "    }\n",
       "\n",
       "    .dataframe thead th {\n",
       "        text-align: right;\n",
       "    }\n",
       "</style>\n",
       "<table border=\"1\" class=\"dataframe\">\n",
       "  <thead>\n",
       "    <tr style=\"text-align: right;\">\n",
       "      <th></th>\n",
       "      <th>Timepoint</th>\n",
       "      <th>Tumor Volume (mm3)</th>\n",
       "      <th>Metastatic Sites</th>\n",
       "    </tr>\n",
       "  </thead>\n",
       "  <tbody>\n",
       "    <tr>\n",
       "      <td>count</td>\n",
       "      <td>178.000000</td>\n",
       "      <td>178.000000</td>\n",
       "      <td>178.000000</td>\n",
       "    </tr>\n",
       "    <tr>\n",
       "      <td>mean</td>\n",
       "      <td>18.174157</td>\n",
       "      <td>52.957935</td>\n",
       "      <td>0.960674</td>\n",
       "    </tr>\n",
       "    <tr>\n",
       "      <td>std</td>\n",
       "      <td>13.473473</td>\n",
       "      <td>6.453240</td>\n",
       "      <td>1.027104</td>\n",
       "    </tr>\n",
       "    <tr>\n",
       "      <td>min</td>\n",
       "      <td>0.000000</td>\n",
       "      <td>45.000000</td>\n",
       "      <td>0.000000</td>\n",
       "    </tr>\n",
       "    <tr>\n",
       "      <td>25%</td>\n",
       "      <td>5.000000</td>\n",
       "      <td>47.431605</td>\n",
       "      <td>0.000000</td>\n",
       "    </tr>\n",
       "    <tr>\n",
       "      <td>50%</td>\n",
       "      <td>15.000000</td>\n",
       "      <td>51.820584</td>\n",
       "      <td>1.000000</td>\n",
       "    </tr>\n",
       "    <tr>\n",
       "      <td>75%</td>\n",
       "      <td>30.000000</td>\n",
       "      <td>57.314444</td>\n",
       "      <td>2.000000</td>\n",
       "    </tr>\n",
       "    <tr>\n",
       "      <td>max</td>\n",
       "      <td>45.000000</td>\n",
       "      <td>72.226731</td>\n",
       "      <td>4.000000</td>\n",
       "    </tr>\n",
       "  </tbody>\n",
       "</table>\n",
       "</div>"
      ],
      "text/plain": [
       "        Timepoint  Tumor Volume (mm3)  Metastatic Sites\n",
       "count  178.000000          178.000000        178.000000\n",
       "mean    18.174157           52.957935          0.960674\n",
       "std     13.473473            6.453240          1.027104\n",
       "min      0.000000           45.000000          0.000000\n",
       "25%      5.000000           47.431605          0.000000\n",
       "50%     15.000000           51.820584          1.000000\n",
       "75%     30.000000           57.314444          2.000000\n",
       "max     45.000000           72.226731          4.000000"
      ]
     },
     "execution_count": 13,
     "metadata": {},
     "output_type": "execute_result"
    }
   ],
   "source": [
    "#describe Infubinol\n",
    "mouse_clinicalDF_Infubinol.describe()"
   ]
  },
  {
   "cell_type": "code",
   "execution_count": 14,
   "metadata": {},
   "outputs": [],
   "source": [
    "time = mouse_clinicalDF_Infubinol[\"Timepoint\"]\n",
    "TumorV= mouse_clinicalDF_Infubinol[\"Tumor Volume (mm3)\"]\n",
    "Metastatic= mouse_clinicalDF_Infubinol[\"Metastatic Sites\"]"
   ]
  },
  {
   "cell_type": "code",
   "execution_count": 15,
   "metadata": {},
   "outputs": [
    {
     "data": {
      "text/plain": [
       "Text(0, 0.5, 'Tumor Volume (mm3)')"
      ]
     },
     "execution_count": 15,
     "metadata": {},
     "output_type": "execute_result"
    },
    {
     "data": {
      "image/png": "[encoded data removed]",
      "text/plain": [
       "<Figure size 432x288 with 1 Axes>"
      ]
     },
     "metadata": {
      "needs_background": "light"
     },
     "output_type": "display_data"
    }
   ],
   "source": [
    "# Scatter plot change in tumor over time for Infuninol\n",
    "plt.scatter(time, TumorV, marker=\"o\", facecolors=\"green\", edgecolors=\"black\")\n",
    "plt.ylim(40,75)\n",
    "plt.xlim(-1,46)\n",
    "plt.title(\"Infubinol\")\n",
    "plt.xlabel(\"Time in Days\")\n",
    "plt.ylabel(\"Tumor Volume (mm3)\")"
   ]
  },
  {
   "cell_type": "code",
   "execution_count": 16,
   "metadata": {},
   "outputs": [
    {
     "data": {
      "text/plain": [
       "Text(0, 0.5, 'Metastatic Sites')"
      ]
     },
     "execution_count": 16,
     "metadata": {},
     "output_type": "execute_result"
    },
    {
     "data": {
      "image/png": "[encoded data removed]",
      "text/plain": [
       "<Figure size 432x288 with 1 Axes>"
      ]
     },
     "metadata": {
      "needs_background": "light"
     },
     "output_type": "display_data"
    }
   ],
   "source": [
    "# Infubinol Metastatic sites comparision\n",
    "plt.scatter(time, Metastatic, marker=\"o\", facecolors=\"black\", edgecolors=\"black\")\n",
    "plt.ylim(-1,5)\n",
    "plt.xlim(-1,46)\n",
    "plt.title(\"Infubinol\")\n",
    "plt.xlabel(\"Time in Days\")\n",
    "plt.ylabel(\"Metastatic Sites\")"
   ]
  },
  {
   "cell_type": "code",
   "execution_count": 33,
   "metadata": {},
   "outputs": [
    {
     "data": {
      "text/plain": [
       "(0, 46)"
      ]
     },
     "execution_count": 33,
     "metadata": {},
     "output_type": "execute_result"
    },
    {
     "data": {
      "image/png": "[encoded data removed]",
      "text/plain": [
       "<Figure size 432x288 with 1 Axes>"
      ]
     },
     "metadata": {
      "needs_background": "light"
     },
     "output_type": "display_data"
    }
   ],
   "source": [
    "Infubinol_plot=mouse_clinicalDF_Infubinol.plot(kind='bar')\n",
    "Infubinol_plot.set_xlabel(\"Time\")\n",
    "Infubinol_plot.set_ylabel (\"Tumor Volume Change (%)\")\n",
    "plt.ylim(0,75)\n",
    "plt.xlim(0,46)\n",
    "#how to adjust the size"
   ]
  },
  {
   "cell_type": "code",
   "execution_count": 18,
   "metadata": {},
   "outputs": [
    {
     "data": {
      "text/html": [
       "<div>\n",
       "<style scoped>\n",
       "    .dataframe tbody tr th:only-of-type {\n",
       "        vertical-align: middle;\n",
       "    }\n",
       "\n",
       "    .dataframe tbody tr th {\n",
       "        vertical-align: top;\n",
       "    }\n",
       "\n",
       "    .dataframe thead th {\n",
       "        text-align: right;\n",
       "    }\n",
       "</style>\n",
       "<table border=\"1\" class=\"dataframe\">\n",
       "  <thead>\n",
       "    <tr style=\"text-align: right;\">\n",
       "      <th></th>\n",
       "      <th>Mouse ID</th>\n",
       "      <th>Drug</th>\n",
       "      <th>Timepoint</th>\n",
       "      <th>Tumor Volume (mm3)</th>\n",
       "      <th>Metastatic Sites</th>\n",
       "    </tr>\n",
       "  </thead>\n",
       "  <tbody>\n",
       "    <tr>\n",
       "      <td>393</td>\n",
       "      <td>q119</td>\n",
       "      <td>Ketapril</td>\n",
       "      <td>0</td>\n",
       "      <td>45.000000</td>\n",
       "      <td>0</td>\n",
       "    </tr>\n",
       "    <tr>\n",
       "      <td>394</td>\n",
       "      <td>q119</td>\n",
       "      <td>Ketapril</td>\n",
       "      <td>5</td>\n",
       "      <td>47.864440</td>\n",
       "      <td>0</td>\n",
       "    </tr>\n",
       "    <tr>\n",
       "      <td>395</td>\n",
       "      <td>q119</td>\n",
       "      <td>Ketapril</td>\n",
       "      <td>10</td>\n",
       "      <td>51.236606</td>\n",
       "      <td>0</td>\n",
       "    </tr>\n",
       "    <tr>\n",
       "      <td>396</td>\n",
       "      <td>n923</td>\n",
       "      <td>Ketapril</td>\n",
       "      <td>0</td>\n",
       "      <td>45.000000</td>\n",
       "      <td>0</td>\n",
       "    </tr>\n",
       "    <tr>\n",
       "      <td>397</td>\n",
       "      <td>n923</td>\n",
       "      <td>Ketapril</td>\n",
       "      <td>5</td>\n",
       "      <td>45.824881</td>\n",
       "      <td>0</td>\n",
       "    </tr>\n",
       "    <tr>\n",
       "      <td>...</td>\n",
       "      <td>...</td>\n",
       "      <td>...</td>\n",
       "      <td>...</td>\n",
       "      <td>...</td>\n",
       "      <td>...</td>\n",
       "    </tr>\n",
       "    <tr>\n",
       "      <td>576</td>\n",
       "      <td>u327</td>\n",
       "      <td>Ketapril</td>\n",
       "      <td>30</td>\n",
       "      <td>57.314072</td>\n",
       "      <td>0</td>\n",
       "    </tr>\n",
       "    <tr>\n",
       "      <td>577</td>\n",
       "      <td>u327</td>\n",
       "      <td>Ketapril</td>\n",
       "      <td>35</td>\n",
       "      <td>58.089028</td>\n",
       "      <td>1</td>\n",
       "    </tr>\n",
       "    <tr>\n",
       "      <td>578</td>\n",
       "      <td>u327</td>\n",
       "      <td>Ketapril</td>\n",
       "      <td>40</td>\n",
       "      <td>60.466545</td>\n",
       "      <td>1</td>\n",
       "    </tr>\n",
       "    <tr>\n",
       "      <td>579</td>\n",
       "      <td>u327</td>\n",
       "      <td>Ketapril</td>\n",
       "      <td>45</td>\n",
       "      <td>66.268801</td>\n",
       "      <td>2</td>\n",
       "    </tr>\n",
       "    <tr>\n",
       "      <td>580</td>\n",
       "      <td>h428</td>\n",
       "      <td>Ketapril</td>\n",
       "      <td>0</td>\n",
       "      <td>45.000000</td>\n",
       "      <td>0</td>\n",
       "    </tr>\n",
       "  </tbody>\n",
       "</table>\n",
       "<p>188 rows × 5 columns</p>\n",
       "</div>"
      ],
      "text/plain": [
       "    Mouse ID      Drug  Timepoint  Tumor Volume (mm3)  Metastatic Sites\n",
       "393     q119  Ketapril          0           45.000000                 0\n",
       "394     q119  Ketapril          5           47.864440                 0\n",
       "395     q119  Ketapril         10           51.236606                 0\n",
       "396     n923  Ketapril          0           45.000000                 0\n",
       "397     n923  Ketapril          5           45.824881                 0\n",
       "..       ...       ...        ...                 ...               ...\n",
       "576     u327  Ketapril         30           57.314072                 0\n",
       "577     u327  Ketapril         35           58.089028                 1\n",
       "578     u327  Ketapril         40           60.466545                 1\n",
       "579     u327  Ketapril         45           66.268801                 2\n",
       "580     h428  Ketapril          0           45.000000                 0\n",
       "\n",
       "[188 rows x 5 columns]"
      ]
     },
     "execution_count": 18,
     "metadata": {},
     "output_type": "execute_result"
    }
   ],
   "source": [
    "mouse_clinicalDF11= mouse_clinicalDF6[mouse_clinicalDF.Drug != 'Capomulin']\n",
    "mouse_clinicalDF12= mouse_clinicalDF11[mouse_clinicalDF.Drug != 'Infubinol']\n",
    "mouse_clinicalDF_Ketapril= mouse_clinicalDF12[mouse_clinicalDF.Drug != 'Placebo']\n",
    "mouse_clinicalDF_Ketapril"
   ]
  },
  {
   "cell_type": "code",
   "execution_count": 19,
   "metadata": {},
   "outputs": [
    {
     "data": {
      "text/html": [
       "<div>\n",
       "<style scoped>\n",
       "    .dataframe tbody tr th:only-of-type {\n",
       "        vertical-align: middle;\n",
       "    }\n",
       "\n",
       "    .dataframe tbody tr th {\n",
       "        vertical-align: top;\n",
       "    }\n",
       "\n",
       "    .dataframe thead th {\n",
       "        text-align: right;\n",
       "    }\n",
       "</style>\n",
       "<table border=\"1\" class=\"dataframe\">\n",
       "  <thead>\n",
       "    <tr style=\"text-align: right;\">\n",
       "      <th></th>\n",
       "      <th>Timepoint</th>\n",
       "      <th>Tumor Volume (mm3)</th>\n",
       "      <th>Metastatic Sites</th>\n",
       "    </tr>\n",
       "  </thead>\n",
       "  <tbody>\n",
       "    <tr>\n",
       "      <td>count</td>\n",
       "      <td>188.000000</td>\n",
       "      <td>188.000000</td>\n",
       "      <td>188.000000</td>\n",
       "    </tr>\n",
       "    <tr>\n",
       "      <td>mean</td>\n",
       "      <td>19.707447</td>\n",
       "      <td>55.235638</td>\n",
       "      <td>1.297872</td>\n",
       "    </tr>\n",
       "    <tr>\n",
       "      <td>std</td>\n",
       "      <td>14.029935</td>\n",
       "      <td>8.279709</td>\n",
       "      <td>1.393873</td>\n",
       "    </tr>\n",
       "    <tr>\n",
       "      <td>min</td>\n",
       "      <td>0.000000</td>\n",
       "      <td>45.000000</td>\n",
       "      <td>0.000000</td>\n",
       "    </tr>\n",
       "    <tr>\n",
       "      <td>25%</td>\n",
       "      <td>5.000000</td>\n",
       "      <td>48.232987</td>\n",
       "      <td>0.000000</td>\n",
       "    </tr>\n",
       "    <tr>\n",
       "      <td>50%</td>\n",
       "      <td>20.000000</td>\n",
       "      <td>53.698743</td>\n",
       "      <td>1.000000</td>\n",
       "    </tr>\n",
       "    <tr>\n",
       "      <td>75%</td>\n",
       "      <td>30.000000</td>\n",
       "      <td>60.870951</td>\n",
       "      <td>2.000000</td>\n",
       "    </tr>\n",
       "    <tr>\n",
       "      <td>max</td>\n",
       "      <td>45.000000</td>\n",
       "      <td>78.567014</td>\n",
       "      <td>4.000000</td>\n",
       "    </tr>\n",
       "  </tbody>\n",
       "</table>\n",
       "</div>"
      ],
      "text/plain": [
       "        Timepoint  Tumor Volume (mm3)  Metastatic Sites\n",
       "count  188.000000          188.000000        188.000000\n",
       "mean    19.707447           55.235638          1.297872\n",
       "std     14.029935            8.279709          1.393873\n",
       "min      0.000000           45.000000          0.000000\n",
       "25%      5.000000           48.232987          0.000000\n",
       "50%     20.000000           53.698743          1.000000\n",
       "75%     30.000000           60.870951          2.000000\n",
       "max     45.000000           78.567014          4.000000"
      ]
     },
     "execution_count": 19,
     "metadata": {},
     "output_type": "execute_result"
    }
   ],
   "source": [
    "mouse_clinicalDF_Ketapril.describe()"
   ]
  },
  {
   "cell_type": "code",
   "execution_count": 20,
   "metadata": {},
   "outputs": [],
   "source": [
    "time = mouse_clinicalDF_Ketapril[\"Timepoint\"]\n",
    "TumorV= mouse_clinicalDF_Ketapril[\"Tumor Volume (mm3)\"]\n",
    "Metastatic= mouse_clinicalDF_Ketapril[\"Metastatic Sites\"]"
   ]
  },
  {
   "cell_type": "code",
   "execution_count": 21,
   "metadata": {},
   "outputs": [
    {
     "data": {
      "text/plain": [
       "Text(0, 0.5, 'Tumor Volume (mm3)')"
      ]
     },
     "execution_count": 21,
     "metadata": {},
     "output_type": "execute_result"
    },
    {
     "data": {
      "image/png": "[encoded data removed]",
      "text/plain": [
       "<Figure size 432x288 with 1 Axes>"
      ]
     },
     "metadata": {
      "needs_background": "light"
     },
     "output_type": "display_data"
    }
   ],
   "source": [
    "# Scatter plot change in tumor over time for Ketapril\n",
    "plt.scatter(time, TumorV, marker=\"o\", facecolors=\"blue\", edgecolors=\"black\")\n",
    "plt.ylim(40,75)\n",
    "plt.xlim(-1,46)\n",
    "plt.title(\"Ketapril\")\n",
    "plt.xlabel(\"Time in Days\")\n",
    "plt.ylabel(\"Tumor Volume (mm3)\")"
   ]
  },
  {
   "cell_type": "code",
   "execution_count": 22,
   "metadata": {},
   "outputs": [
    {
     "data": {
      "text/plain": [
       "Text(0, 0.5, 'Metastatic Sites')"
      ]
     },
     "execution_count": 22,
     "metadata": {},
     "output_type": "execute_result"
    },
    {
     "data": {
      "image/png": "[encoded data removed]",
      "text/plain": [
       "<Figure size 432x288 with 1 Axes>"
      ]
     },
     "metadata": {
      "needs_background": "light"
     },
     "output_type": "display_data"
    }
   ],
   "source": [
    "# Ketapril Metastatic sites comparision\n",
    "plt.scatter(time, Metastatic, marker=\"o\", facecolors=\"black\", edgecolors=\"black\")\n",
    "plt.ylim(-1,5)\n",
    "plt.xlim(-1,46)\n",
    "plt.title(\"Ketapril\")\n",
    "plt.xlabel(\"Time in Days\")\n",
    "plt.ylabel(\"Metastatic Sites\")"
   ]
  },
  {
   "cell_type": "code",
   "execution_count": 35,
   "metadata": {},
   "outputs": [
    {
     "data": {
      "text/plain": [
       "(0, 46)"
      ]
     },
     "execution_count": 35,
     "metadata": {},
     "output_type": "execute_result"
    },
    {
     "data": {
      "image/png": "[encoded data removed]",
      "text/plain": [
       "<Figure size 432x288 with 1 Axes>"
      ]
     },
     "metadata": {
      "needs_background": "light"
     },
     "output_type": "display_data"
    }
   ],
   "source": [
    "Ketapril_plot=mouse_clinicalDF_Ketapril.plot(kind='bar')\n",
    "Ketapril_plot.set_xlabel(\"Time\")\n",
    "Ketapril_plot.set_ylabel (\"Tumor Volume Change (%)\")\n",
    "plt.ylim(0,85)\n",
    "plt.xlim(0,46)\n",
    "#how to adjust the size"
   ]
  },
  {
   "cell_type": "code",
   "execution_count": 24,
   "metadata": {},
   "outputs": [
    {
     "data": {
      "text/html": [
       "<div>\n",
       "<style scoped>\n",
       "    .dataframe tbody tr th:only-of-type {\n",
       "        vertical-align: middle;\n",
       "    }\n",
       "\n",
       "    .dataframe tbody tr th {\n",
       "        vertical-align: top;\n",
       "    }\n",
       "\n",
       "    .dataframe thead th {\n",
       "        text-align: right;\n",
       "    }\n",
       "</style>\n",
       "<table border=\"1\" class=\"dataframe\">\n",
       "  <thead>\n",
       "    <tr style=\"text-align: right;\">\n",
       "      <th></th>\n",
       "      <th>Mouse ID</th>\n",
       "      <th>Drug</th>\n",
       "      <th>Timepoint</th>\n",
       "      <th>Tumor Volume (mm3)</th>\n",
       "      <th>Metastatic Sites</th>\n",
       "    </tr>\n",
       "  </thead>\n",
       "  <tbody>\n",
       "    <tr>\n",
       "      <td>1725</td>\n",
       "      <td>a897</td>\n",
       "      <td>Placebo</td>\n",
       "      <td>0</td>\n",
       "      <td>45.000000</td>\n",
       "      <td>0</td>\n",
       "    </tr>\n",
       "    <tr>\n",
       "      <td>1726</td>\n",
       "      <td>a897</td>\n",
       "      <td>Placebo</td>\n",
       "      <td>5</td>\n",
       "      <td>45.691124</td>\n",
       "      <td>1</td>\n",
       "    </tr>\n",
       "    <tr>\n",
       "      <td>1727</td>\n",
       "      <td>a897</td>\n",
       "      <td>Placebo</td>\n",
       "      <td>10</td>\n",
       "      <td>47.972927</td>\n",
       "      <td>1</td>\n",
       "    </tr>\n",
       "    <tr>\n",
       "      <td>1728</td>\n",
       "      <td>a897</td>\n",
       "      <td>Placebo</td>\n",
       "      <td>15</td>\n",
       "      <td>52.343085</td>\n",
       "      <td>2</td>\n",
       "    </tr>\n",
       "    <tr>\n",
       "      <td>1729</td>\n",
       "      <td>a897</td>\n",
       "      <td>Placebo</td>\n",
       "      <td>20</td>\n",
       "      <td>54.595705</td>\n",
       "      <td>3</td>\n",
       "    </tr>\n",
       "    <tr>\n",
       "      <td>...</td>\n",
       "      <td>...</td>\n",
       "      <td>...</td>\n",
       "      <td>...</td>\n",
       "      <td>...</td>\n",
       "      <td>...</td>\n",
       "    </tr>\n",
       "    <tr>\n",
       "      <td>1901</td>\n",
       "      <td>j235</td>\n",
       "      <td>Placebo</td>\n",
       "      <td>0</td>\n",
       "      <td>45.000000</td>\n",
       "      <td>0</td>\n",
       "    </tr>\n",
       "    <tr>\n",
       "      <td>1902</td>\n",
       "      <td>j235</td>\n",
       "      <td>Placebo</td>\n",
       "      <td>5</td>\n",
       "      <td>46.588820</td>\n",
       "      <td>0</td>\n",
       "    </tr>\n",
       "    <tr>\n",
       "      <td>1903</td>\n",
       "      <td>j235</td>\n",
       "      <td>Placebo</td>\n",
       "      <td>10</td>\n",
       "      <td>48.018788</td>\n",
       "      <td>1</td>\n",
       "    </tr>\n",
       "    <tr>\n",
       "      <td>1904</td>\n",
       "      <td>j235</td>\n",
       "      <td>Placebo</td>\n",
       "      <td>15</td>\n",
       "      <td>51.161138</td>\n",
       "      <td>1</td>\n",
       "    </tr>\n",
       "    <tr>\n",
       "      <td>1905</td>\n",
       "      <td>j235</td>\n",
       "      <td>Placebo</td>\n",
       "      <td>20</td>\n",
       "      <td>52.942902</td>\n",
       "      <td>1</td>\n",
       "    </tr>\n",
       "  </tbody>\n",
       "</table>\n",
       "<p>181 rows × 5 columns</p>\n",
       "</div>"
      ],
      "text/plain": [
       "     Mouse ID     Drug  Timepoint  Tumor Volume (mm3)  Metastatic Sites\n",
       "1725     a897  Placebo          0           45.000000                 0\n",
       "1726     a897  Placebo          5           45.691124                 1\n",
       "1727     a897  Placebo         10           47.972927                 1\n",
       "1728     a897  Placebo         15           52.343085                 2\n",
       "1729     a897  Placebo         20           54.595705                 3\n",
       "...       ...      ...        ...                 ...               ...\n",
       "1901     j235  Placebo          0           45.000000                 0\n",
       "1902     j235  Placebo          5           46.588820                 0\n",
       "1903     j235  Placebo         10           48.018788                 1\n",
       "1904     j235  Placebo         15           51.161138                 1\n",
       "1905     j235  Placebo         20           52.942902                 1\n",
       "\n",
       "[181 rows x 5 columns]"
      ]
     },
     "execution_count": 24,
     "metadata": {},
     "output_type": "execute_result"
    }
   ],
   "source": [
    "mouse_clinicalDF13= mouse_clinicalDF6[mouse_clinicalDF.Drug != 'Capomulin']\n",
    "mouse_clinicalDF14= mouse_clinicalDF13[mouse_clinicalDF.Drug != 'Ketapril']\n",
    "mouse_clinicalDF_Placebo= mouse_clinicalDF14[mouse_clinicalDF.Drug != 'Infubinol']\n",
    "mouse_clinicalDF_Placebo"
   ]
  },
  {
   "cell_type": "code",
   "execution_count": 25,
   "metadata": {},
   "outputs": [
    {
     "data": {
      "text/html": [
       "<div>\n",
       "<style scoped>\n",
       "    .dataframe tbody tr th:only-of-type {\n",
       "        vertical-align: middle;\n",
       "    }\n",
       "\n",
       "    .dataframe tbody tr th {\n",
       "        vertical-align: top;\n",
       "    }\n",
       "\n",
       "    .dataframe thead th {\n",
       "        text-align: right;\n",
       "    }\n",
       "</style>\n",
       "<table border=\"1\" class=\"dataframe\">\n",
       "  <thead>\n",
       "    <tr style=\"text-align: right;\">\n",
       "      <th></th>\n",
       "      <th>Timepoint</th>\n",
       "      <th>Tumor Volume (mm3)</th>\n",
       "      <th>Metastatic Sites</th>\n",
       "    </tr>\n",
       "  </thead>\n",
       "  <tbody>\n",
       "    <tr>\n",
       "      <td>count</td>\n",
       "      <td>181.000000</td>\n",
       "      <td>181.000000</td>\n",
       "      <td>181.000000</td>\n",
       "    </tr>\n",
       "    <tr>\n",
       "      <td>mean</td>\n",
       "      <td>18.674033</td>\n",
       "      <td>54.033581</td>\n",
       "      <td>1.441989</td>\n",
       "    </tr>\n",
       "    <tr>\n",
       "      <td>std</td>\n",
       "      <td>13.890798</td>\n",
       "      <td>7.821003</td>\n",
       "      <td>1.338824</td>\n",
       "    </tr>\n",
       "    <tr>\n",
       "      <td>min</td>\n",
       "      <td>0.000000</td>\n",
       "      <td>45.000000</td>\n",
       "      <td>0.000000</td>\n",
       "    </tr>\n",
       "    <tr>\n",
       "      <td>25%</td>\n",
       "      <td>5.000000</td>\n",
       "      <td>47.459053</td>\n",
       "      <td>0.000000</td>\n",
       "    </tr>\n",
       "    <tr>\n",
       "      <td>50%</td>\n",
       "      <td>15.000000</td>\n",
       "      <td>52.288934</td>\n",
       "      <td>1.000000</td>\n",
       "    </tr>\n",
       "    <tr>\n",
       "      <td>75%</td>\n",
       "      <td>30.000000</td>\n",
       "      <td>59.916934</td>\n",
       "      <td>2.000000</td>\n",
       "    </tr>\n",
       "    <tr>\n",
       "      <td>max</td>\n",
       "      <td>45.000000</td>\n",
       "      <td>73.212939</td>\n",
       "      <td>4.000000</td>\n",
       "    </tr>\n",
       "  </tbody>\n",
       "</table>\n",
       "</div>"
      ],
      "text/plain": [
       "        Timepoint  Tumor Volume (mm3)  Metastatic Sites\n",
       "count  181.000000          181.000000        181.000000\n",
       "mean    18.674033           54.033581          1.441989\n",
       "std     13.890798            7.821003          1.338824\n",
       "min      0.000000           45.000000          0.000000\n",
       "25%      5.000000           47.459053          0.000000\n",
       "50%     15.000000           52.288934          1.000000\n",
       "75%     30.000000           59.916934          2.000000\n",
       "max     45.000000           73.212939          4.000000"
      ]
     },
     "execution_count": 25,
     "metadata": {},
     "output_type": "execute_result"
    }
   ],
   "source": [
    "mouse_clinicalDF_Placebo.describe()"
   ]
  },
  {
   "cell_type": "code",
   "execution_count": 26,
   "metadata": {},
   "outputs": [],
   "source": [
    "time = mouse_clinicalDF_Placebo[\"Timepoint\"]\n",
    "TumorV= mouse_clinicalDF_Placebo[\"Tumor Volume (mm3)\"]\n",
    "Metastatic= mouse_clinicalDF_Placebo[\"Metastatic Sites\"]"
   ]
  },
  {
   "cell_type": "code",
   "execution_count": 27,
   "metadata": {},
   "outputs": [
    {
     "data": {
      "text/plain": [
       "Text(0, 0.5, 'Tumor Volume (mm3)')"
      ]
     },
     "execution_count": 27,
     "metadata": {},
     "output_type": "execute_result"
    },
    {
     "data": {
      "image/png": "[encoded data removed]",
      "text/plain": [
       "<Figure size 432x288 with 1 Axes>"
      ]
     },
     "metadata": {
      "needs_background": "light"
     },
     "output_type": "display_data"
    }
   ],
   "source": [
    "# Scatter plot change in tumor over time for Placebo\n",
    "plt.scatter(time, TumorV, marker=\"o\", facecolors=\"yellow\", edgecolors=\"black\")\n",
    "plt.ylim(40,75)\n",
    "plt.xlim(-1,46)\n",
    "plt.title(\"Placebo\")\n",
    "plt.xlabel(\"Time in Days\")\n",
    "plt.ylabel(\"Tumor Volume (mm3)\")"
   ]
  },
  {
   "cell_type": "code",
   "execution_count": 28,
   "metadata": {},
   "outputs": [
    {
     "data": {
      "text/plain": [
       "Text(0, 0.5, 'Metastatic Sites')"
      ]
     },
     "execution_count": 28,
     "metadata": {},
     "output_type": "execute_result"
    },
    {
     "data": {
      "image/png": "[encoded data removed]",
      "text/plain": [
       "<Figure size 432x288 with 1 Axes>"
      ]
     },
     "metadata": {
      "needs_background": "light"
     },
     "output_type": "display_data"
    }
   ],
   "source": [
    "plt.scatter(time, Metastatic, marker=\"o\", facecolors=\"black\", edgecolors=\"black\")\n",
    "plt.ylim(-1,5)\n",
    "plt.xlim(-1,46)\n",
    "plt.title(\"Placebo\")\n",
    "plt.xlabel(\"Time in Days\")\n",
    "plt.ylabel(\"Metastatic Sites\")"
   ]
  },
  {
   "cell_type": "code",
   "execution_count": 36,
   "metadata": {},
   "outputs": [
    {
     "data": {
      "text/plain": [
       "(0, 46)"
      ]
     },
     "execution_count": 36,
     "metadata": {},
     "output_type": "execute_result"
    },
    {
     "data": {
      "image/png": "[encoded data removed]",
      "text/plain": [
       "<Figure size 432x288 with 1 Axes>"
      ]
     },
     "metadata": {
      "needs_background": "light"
     },
     "output_type": "display_data"
    }
   ],
   "source": [
    "Placebo_plot=mouse_clinicalDF_Placebo.plot(kind='bar')\n",
    "Placebo_plot.set_xlabel(\"Time\")\n",
    "Placebo_plot.set_ylabel (\"Tumor Volume Change (%)\")\n",
    "plt.ylim(0,80)\n",
    "plt.xlim(0,46)\n",
    "#how to adjust the size"
   ]
  },
  {
   "cell_type": "markdown",
   "metadata": {},
   "source": [
    "## Survival Rates"
   ]
  },
  {
   "cell_type": "code",
   "execution_count": 30,
   "metadata": {},
   "outputs": [
    {
     "data": {
      "text/html": [
       "<div>\n",
       "<style scoped>\n",
       "    .dataframe tbody tr th:only-of-type {\n",
       "        vertical-align: middle;\n",
       "    }\n",
       "\n",
       "    .dataframe tbody tr th {\n",
       "        vertical-align: top;\n",
       "    }\n",
       "\n",
       "    .dataframe thead th {\n",
       "        text-align: right;\n",
       "    }\n",
       "</style>\n",
       "<table border=\"1\" class=\"dataframe\">\n",
       "  <thead>\n",
       "    <tr style=\"text-align: right;\">\n",
       "      <th></th>\n",
       "      <th>Mouse ID</th>\n",
       "      <th>Drug</th>\n",
       "      <th>Timepoint</th>\n",
       "    </tr>\n",
       "  </thead>\n",
       "  <tbody>\n",
       "    <tr>\n",
       "      <td>0</td>\n",
       "      <td>f234</td>\n",
       "      <td>Stelasyn</td>\n",
       "      <td>0</td>\n",
       "    </tr>\n",
       "    <tr>\n",
       "      <td>1</td>\n",
       "      <td>f234</td>\n",
       "      <td>Stelasyn</td>\n",
       "      <td>5</td>\n",
       "    </tr>\n",
       "    <tr>\n",
       "      <td>2</td>\n",
       "      <td>f234</td>\n",
       "      <td>Stelasyn</td>\n",
       "      <td>10</td>\n",
       "    </tr>\n",
       "    <tr>\n",
       "      <td>3</td>\n",
       "      <td>f234</td>\n",
       "      <td>Stelasyn</td>\n",
       "      <td>15</td>\n",
       "    </tr>\n",
       "    <tr>\n",
       "      <td>4</td>\n",
       "      <td>f234</td>\n",
       "      <td>Stelasyn</td>\n",
       "      <td>20</td>\n",
       "    </tr>\n",
       "    <tr>\n",
       "      <td>...</td>\n",
       "      <td>...</td>\n",
       "      <td>...</td>\n",
       "      <td>...</td>\n",
       "    </tr>\n",
       "    <tr>\n",
       "      <td>1901</td>\n",
       "      <td>j235</td>\n",
       "      <td>Placebo</td>\n",
       "      <td>0</td>\n",
       "    </tr>\n",
       "    <tr>\n",
       "      <td>1902</td>\n",
       "      <td>j235</td>\n",
       "      <td>Placebo</td>\n",
       "      <td>5</td>\n",
       "    </tr>\n",
       "    <tr>\n",
       "      <td>1903</td>\n",
       "      <td>j235</td>\n",
       "      <td>Placebo</td>\n",
       "      <td>10</td>\n",
       "    </tr>\n",
       "    <tr>\n",
       "      <td>1904</td>\n",
       "      <td>j235</td>\n",
       "      <td>Placebo</td>\n",
       "      <td>15</td>\n",
       "    </tr>\n",
       "    <tr>\n",
       "      <td>1905</td>\n",
       "      <td>j235</td>\n",
       "      <td>Placebo</td>\n",
       "      <td>20</td>\n",
       "    </tr>\n",
       "  </tbody>\n",
       "</table>\n",
       "<p>1906 rows × 3 columns</p>\n",
       "</div>"
      ],
      "text/plain": [
       "     Mouse ID      Drug  Timepoint\n",
       "0        f234  Stelasyn          0\n",
       "1        f234  Stelasyn          5\n",
       "2        f234  Stelasyn         10\n",
       "3        f234  Stelasyn         15\n",
       "4        f234  Stelasyn         20\n",
       "...       ...       ...        ...\n",
       "1901     j235   Placebo          0\n",
       "1902     j235   Placebo          5\n",
       "1903     j235   Placebo         10\n",
       "1904     j235   Placebo         15\n",
       "1905     j235   Placebo         20\n",
       "\n",
       "[1906 rows x 3 columns]"
      ]
     },
     "execution_count": 30,
     "metadata": {},
     "output_type": "execute_result"
    }
   ],
   "source": [
    "# Store the Count of Mice Grouped by Drug and Timepoint (W can pass any metric)\n",
    "mouse_clinicalDF\n",
    "Survive_Mice= mouse_clinicalDF.loc[:, [\"Mouse ID\", \"Drug\",\"Timepoint\"]]\n",
    "Survive_Mice\n",
    "# Preview DataFrame\n"
   ]
  },
  {
   "cell_type": "code",
   "execution_count": 31,
   "metadata": {},
   "outputs": [
    {
     "data": {
      "text/plain": [
       "Mouse ID\n",
       "a203    10\n",
       "a251    10\n",
       "a262    10\n",
       "a275    10\n",
       "a366     7\n",
       "        ..\n",
       "z435     3\n",
       "z578    10\n",
       "z581    10\n",
       "z795    10\n",
       "z969    10\n",
       "Length: 249, dtype: int64"
      ]
     },
     "execution_count": 31,
     "metadata": {},
     "output_type": "execute_result"
    }
   ],
   "source": [
    "Survive_Mice_group = Survive_Mice.groupby('Mouse ID')\n",
    "Survive_Mice_group.size()\n",
    "#Survive_Mice.pivot(columns=\"Drug\", values=\"Timepoint\")\n",
    "#Stuck here and cant figure out which functions to use to count the Mouse at a specific timepoint"
   ]
  },
  {
   "cell_type": "code",
   "execution_count": null,
   "metadata": {},
   "outputs": [],
   "source": [
    "#In conclusion:\n",
    "\n",
    "#1.) Placebo seems to be least effective in the spread of the Met. Sites. Followed by ketapil, Infubinol and then capomulin\n",
    "#2.)Capomulin was the most effective in decreasing the Tumor volume (mm3) over the span of the inital 45 days\n",
    "#3.)Looking at the scatterplots, ketapil looks o the majority of its mice to increase in Tumor volume over the span of the first 45 days\n",
    "    "
   ]
  }
 ],
 "metadata": {
  "anaconda-cloud": {},
  "kernelspec": {
   "display_name": "Python 3",
   "language": "python",
   "name": "python3"
  },
  "language_info": {
   "codemirror_mode": {
    "name": "ipython",
    "version": 3
   },
   "file_extension": ".py",
   "mimetype": "text/x-python",
   "name": "python",
   "nbconvert_exporter": "python",
   "pygments_lexer": "ipython3",
   "version": "3.7.4"
  }
 },
 "nbformat": 4,
 "nbformat_minor": 1
}
